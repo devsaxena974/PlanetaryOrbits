{
 "cells": [
  {
   "cell_type": "code",
   "execution_count": 61,
   "metadata": {},
   "outputs": [],
   "source": [
    "from astroquery.jplhorizons import Horizons\n",
    "from datetime import date, timedelta\n",
    "import numpy as np"
   ]
  },
  {
   "cell_type": "code",
   "execution_count": 45,
   "metadata": {},
   "outputs": [
    {
     "name": "stdout",
     "output_type": "stream",
     "text": [
      "2023-08-06\n",
      "2023-08-05\n"
     ]
    }
   ],
   "source": [
    "# get today's date\n",
    "print(str(date.today()))\n",
    "cur_date = str(date.today())\n",
    "yesterday = str(date.today() - timedelta(days=1))\n",
    "print(yesterday)"
   ]
  },
  {
   "cell_type": "code",
   "execution_count": 53,
   "metadata": {},
   "outputs": [],
   "source": [
    "bodycodes = ['10', '199', '299', '399', '301', '499', '599', '699', '799', '899']\n",
    "body_objects = []\n",
    "for code in bodycodes:\n",
    "    obj = Horizons(id=code, location='500@0', epochs={'start': yesterday,\n",
    "                        'stop': cur_date,\n",
    "                        'step': '1d'})\n",
    "    \n",
    "    body_objects.append(obj)\n"
   ]
  },
  {
   "cell_type": "code",
   "execution_count": 66,
   "metadata": {},
   "outputs": [
    {
     "data": {
      "text/html": [
       "<div><i>Table masked=True length=2</i>\n",
       "<table id=\"table2706291764816\" class=\"table-striped table-bordered table-condensed\">\n",
       "<thead><tr><th>targetname</th><th>datetime_jd</th><th>datetime_str</th><th>x</th><th>y</th><th>z</th><th>vx</th><th>vy</th><th>vz</th><th>lighttime</th><th>range</th><th>range_rate</th></tr></thead>\n",
       "<thead><tr><th>---</th><th>d</th><th>---</th><th>AU</th><th>AU</th><th>AU</th><th>AU / d</th><th>AU / d</th><th>AU / d</th><th>d</th><th>AU</th><th>AU / d</th></tr></thead>\n",
       "<thead><tr><th>str8</th><th>float64</th><th>str30</th><th>float64</th><th>float64</th><th>float64</th><th>float64</th><th>float64</th><th>float64</th><th>float64</th><th>float64</th><th>float64</th></tr></thead>\n",
       "<tr><td>Sun (10)</td><td>2460161.5</td><td>A.D. 2023-Aug-05 00:00:00.0000</td><td>-0.008587508638657917</td><td>-0.001760045580280409</td><td>0.0002146695277102397</td><td>3.296956140897256e-06</td><td>-8.188574265402333e-06</td><td>-6.407376086601712e-09</td><td>5.064347419882108e-05</td><td>0.008768645737502245</td><td>-1.58539314749081e-06</td></tr>\n",
       "<tr><td>Sun (10)</td><td>2460162.5</td><td>A.D. 2023-Aug-06 00:00:00.0000</td><td>-0.008584205768588834</td><td>-0.001768232274663572</td><td>0.0002146629521624665</td><td>3.30879090615281e-06</td><td>-8.184807115500275e-06</td><td>-6.74414324242323e-09</td><td>5.063430691327042e-05</td><td>0.008767058471212955</td><td>-1.589147562272189e-06</td></tr>\n",
       "</table></div>"
      ],
      "text/plain": [
       "<Table masked=True length=2>\n",
       "targetname datetime_jd ...        range               range_rate      \n",
       "   ---          d      ...          AU                  AU / d        \n",
       "   str8      float64   ...       float64               float64        \n",
       "---------- ----------- ... -------------------- ----------------------\n",
       "  Sun (10)   2460161.5 ... 0.008768645737502245  -1.58539314749081e-06\n",
       "  Sun (10)   2460162.5 ... 0.008767058471212955 -1.589147562272189e-06"
      ]
     },
     "execution_count": 66,
     "metadata": {},
     "output_type": "execute_result"
    }
   ],
   "source": [
    "body_objects[0].vectors()"
   ]
  },
  {
   "cell_type": "code",
   "execution_count": 57,
   "metadata": {},
   "outputs": [],
   "source": [
    "q = []\n",
    "for i in range(len(body_objects)):\n",
    "    # append x,y,z, coords\n",
    "    table = body_objects[i].vectors()\n",
    "    q.append(table['x'][1])\n",
    "    q.append(table['y'][1])\n",
    "    q.append(table['z'][1])\n",
    "    \n",
    "for j in range(len(body_objects)):\n",
    "    table = body_objects[j].vectors()\n",
    "    # append vx. vy. vz initial velocities\n",
    "    q.append(table['vx'][1])\n",
    "    q.append(table['vy'][1])\n",
    "    q.append(table['vz'][1])"
   ]
  },
  {
   "cell_type": "code",
   "execution_count": 62,
   "metadata": {},
   "outputs": [],
   "source": [
    "q = np.array(q)"
   ]
  },
  {
   "cell_type": "code",
   "execution_count": 63,
   "metadata": {},
   "outputs": [
    {
     "data": {
      "text/plain": [
       "array([-8.58420577e-03, -1.76823227e-03,  2.14662952e-04, -2.10345187e-01,\n",
       "       -4.18793228e-01, -1.53584327e-02,  4.42598158e-01, -5.72370961e-01,\n",
       "       -3.36536308e-02,  6.83055379e-01, -7.43827698e-01,  2.50620672e-04,\n",
       "        6.85467426e-01, -7.43312861e-01,  1.92170200e-04, -1.64393601e+00,\n",
       "       -1.65108636e-01,  3.69059780e-02,  4.19621315e+00,  2.63129936e+00,\n",
       "       -1.04797610e-01,  8.68738438e+00, -4.46648247e+00, -2.68225729e-01,\n",
       "        1.27161399e+01,  1.49538936e+01, -1.09200738e-01,  2.98065795e+01,\n",
       "       -2.26008564e+00, -6.40381263e-01,  3.30879091e-06, -8.18480712e-06,\n",
       "       -6.74414324e-09,  1.96648924e-02, -1.08943894e-02, -2.69308460e-03,\n",
       "        1.57349765e-02,  1.24651551e-02, -7.36489109e-04,  1.23095594e-02,\n",
       "        1.16497808e-02, -1.31260240e-06,  1.22186039e-02,  1.22548031e-02,\n",
       "        4.97190313e-05,  1.91576205e-03, -1.27380776e-02, -3.13710655e-04,\n",
       "       -4.09230924e-03,  6.74847335e-03,  6.35532415e-05,  2.23831836e-03,\n",
       "        4.95047881e-03, -1.75028554e-04, -3.02507409e-03,  2.36462675e-03,\n",
       "        4.79632797e-05,  2.16316157e-04,  3.14845314e-03, -6.99023671e-05])"
      ]
     },
     "execution_count": 63,
     "metadata": {},
     "output_type": "execute_result"
    }
   ],
   "source": [
    "q"
   ]
  },
  {
   "cell_type": "code",
   "execution_count": null,
   "metadata": {},
   "outputs": [],
   "source": []
  }
 ],
 "metadata": {
  "kernelspec": {
   "display_name": "Python 3",
   "language": "python",
   "name": "python3"
  },
  "language_info": {
   "codemirror_mode": {
    "name": "ipython",
    "version": 3
   },
   "file_extension": ".py",
   "mimetype": "text/x-python",
   "name": "python",
   "nbconvert_exporter": "python",
   "pygments_lexer": "ipython3",
   "version": "3.11.1"
  },
  "orig_nbformat": 4
 },
 "nbformat": 4,
 "nbformat_minor": 2
}
